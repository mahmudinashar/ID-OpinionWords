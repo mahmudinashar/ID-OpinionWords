{
  "nbformat": 4,
  "nbformat_minor": 0,
  "metadata": {
    "colab": {
      "name": "Golang Notebook.ipynb",
      "provenance": [],
      "collapsed_sections": [],
      "include_colab_link": true
    },
    "kernelspec": {
      "name": "gophernotes",
      "display_name": "Go"
    }
  },
  "cells": [
    {
      "cell_type": "markdown",
      "metadata": {
        "id": "view-in-github",
        "colab_type": "text"
      },
      "source": [
        "<a href=\"https://colab.research.google.com/github/mahmudinashar/ID-OpinionWords/blob/master/Golang_Notebook.ipynb\" target=\"_parent\"><img src=\"https://colab.research.google.com/assets/colab-badge.svg\" alt=\"Open In Colab\"/></a>"
      ]
    },
    {
      "cell_type": "markdown",
      "metadata": {
        "id": "3o0eEBjPUUW4"
      },
      "source": [
        "**How to run Golang in Google Colab.**\n",
        "\n",
        "1.   Run the first code cell, using the python runtime. \n",
        "2.   Refresh the page to use the Go kernel (gophernotes).\n",
        "3.   Test that everything went well by running the Golang cells below."
      ]
    },
    {
      "cell_type": "code",
      "metadata": {
        "id": "caT1iMfshw62",
        "colab": {
          "base_uri": "https://localhost:8080/"
        },
        "outputId": "2258f7b0-51e3-4d63-fd00-bb73f7a30d8a"
      },
      "source": [
        "!add-apt-repository ppa:longsleep/golang-backports -y\n",
        "!apt update\n",
        "!apt install golang-go\n",
        "%env GOPATH=/root/go\n",
        "!go get -u github.com/gopherdata/gophernotes\n",
        "!cp ~/go/bin/gophernotes /usr/bin/\n",
        "!mkdir /usr/local/share/jupyter/kernels/gophernotes\n",
        "!cp ~/go/src/github.com/gopherdata/gophernotes/kernel/* \\\n",
        "       /usr/local/share/jupyter/kernels/gophernotes"
      ],
      "execution_count": 1,
      "outputs": [
        {
          "output_type": "stream",
          "text": [
            "\r0% [Working]\r            \rGet:1 https://cloud.r-project.org/bin/linux/ubuntu bionic-cran40/ InRelease [3,626 B]\n",
            "Ign:2 https://developer.download.nvidia.com/compute/cuda/repos/ubuntu1804/x86_64  InRelease\n",
            "Ign:3 https://developer.download.nvidia.com/compute/machine-learning/repos/ubuntu1804/x86_64  InRelease\n",
            "Get:4 https://developer.download.nvidia.com/compute/cuda/repos/ubuntu1804/x86_64  Release [697 B]\n",
            "Hit:5 https://developer.download.nvidia.com/compute/machine-learning/repos/ubuntu1804/x86_64  Release\n",
            "Get:6 http://security.ubuntu.com/ubuntu bionic-security InRelease [88.7 kB]\n",
            "Get:7 http://ppa.launchpad.net/c2d4u.team/c2d4u4.0+/ubuntu bionic InRelease [15.9 kB]\n",
            "Get:8 https://developer.download.nvidia.com/compute/cuda/repos/ubuntu1804/x86_64  Release.gpg [836 B]\n",
            "Hit:9 http://archive.ubuntu.com/ubuntu bionic InRelease\n",
            "Get:11 http://archive.ubuntu.com/ubuntu bionic-updates InRelease [88.7 kB]\n",
            "Ign:12 https://developer.download.nvidia.com/compute/cuda/repos/ubuntu1804/x86_64  Packages\n",
            "Get:12 https://developer.download.nvidia.com/compute/cuda/repos/ubuntu1804/x86_64  Packages [549 kB]\n",
            "Hit:13 http://ppa.launchpad.net/cran/libgit2/ubuntu bionic InRelease\n",
            "Get:14 http://ppa.launchpad.net/graphics-drivers/ppa/ubuntu bionic InRelease [21.3 kB]\n",
            "Get:15 http://archive.ubuntu.com/ubuntu bionic-backports InRelease [74.6 kB]\n",
            "Get:16 http://security.ubuntu.com/ubuntu bionic-security/universe amd64 Packages [1,383 kB]\n",
            "Get:17 http://ppa.launchpad.net/longsleep/golang-backports/ubuntu bionic InRelease [15.4 kB]\n",
            "Get:18 http://archive.ubuntu.com/ubuntu bionic-updates/restricted amd64 Packages [318 kB]\n",
            "Get:19 http://ppa.launchpad.net/c2d4u.team/c2d4u4.0+/ubuntu bionic/main Sources [1,718 kB]\n",
            "Get:20 http://archive.ubuntu.com/ubuntu bionic-updates/main amd64 Packages [2,332 kB]\n",
            "Get:21 http://security.ubuntu.com/ubuntu bionic-security/main amd64 Packages [1,901 kB]\n",
            "Get:22 http://security.ubuntu.com/ubuntu bionic-security/restricted amd64 Packages [288 kB]\n",
            "Get:23 http://archive.ubuntu.com/ubuntu bionic-updates/universe amd64 Packages [2,153 kB]\n",
            "Get:24 http://archive.ubuntu.com/ubuntu bionic-updates/multiverse amd64 Packages [42.7 kB]\n",
            "Get:25 http://ppa.launchpad.net/c2d4u.team/c2d4u4.0+/ubuntu bionic/main amd64 Packages [879 kB]\n",
            "Get:26 http://ppa.launchpad.net/graphics-drivers/ppa/ubuntu bionic/main amd64 Packages [49.2 kB]\n",
            "Get:27 http://ppa.launchpad.net/longsleep/golang-backports/ubuntu bionic/main amd64 Packages [5,484 B]\n",
            "Fetched 11.9 MB in 8s (1,581 kB/s)\n",
            "Reading package lists... Done\n",
            "Hit:1 https://cloud.r-project.org/bin/linux/ubuntu bionic-cran40/ InRelease\n",
            "Ign:2 https://developer.download.nvidia.com/compute/cuda/repos/ubuntu1804/x86_64  InRelease\n",
            "Ign:3 https://developer.download.nvidia.com/compute/machine-learning/repos/ubuntu1804/x86_64  InRelease\n",
            "Hit:4 https://developer.download.nvidia.com/compute/cuda/repos/ubuntu1804/x86_64  Release\n",
            "Hit:5 https://developer.download.nvidia.com/compute/machine-learning/repos/ubuntu1804/x86_64  Release\n",
            "Hit:6 http://ppa.launchpad.net/c2d4u.team/c2d4u4.0+/ubuntu bionic InRelease\n",
            "Hit:7 http://security.ubuntu.com/ubuntu bionic-security InRelease\n",
            "Hit:8 http://archive.ubuntu.com/ubuntu bionic InRelease\n",
            "Hit:11 http://archive.ubuntu.com/ubuntu bionic-updates InRelease\n",
            "Hit:12 http://ppa.launchpad.net/cran/libgit2/ubuntu bionic InRelease\n",
            "Hit:13 http://archive.ubuntu.com/ubuntu bionic-backports InRelease\n",
            "Hit:14 http://ppa.launchpad.net/graphics-drivers/ppa/ubuntu bionic InRelease\n",
            "Hit:15 http://ppa.launchpad.net/longsleep/golang-backports/ubuntu bionic InRelease\n",
            "Reading package lists... Done\n",
            "Building dependency tree       \n",
            "Reading state information... Done\n",
            "46 packages can be upgraded. Run 'apt list --upgradable' to see them.\n",
            "Reading package lists... Done\n",
            "Building dependency tree       \n",
            "Reading state information... Done\n",
            "The following additional packages will be installed:\n",
            "  golang-1.15-go golang-1.15-src golang-src\n",
            "Suggested packages:\n",
            "  bzr | brz mercurial subversion\n",
            "The following NEW packages will be installed:\n",
            "  golang-1.15-go golang-1.15-src golang-go golang-src\n",
            "0 upgraded, 4 newly installed, 0 to remove and 46 not upgraded.\n",
            "Need to get 61.2 MB of archives.\n",
            "After this operation, 359 MB of additional disk space will be used.\n",
            "Get:1 http://ppa.launchpad.net/longsleep/golang-backports/ubuntu bionic/main amd64 golang-1.15-src amd64 1.15.7-1longsleep1+bionic [13.8 MB]\n",
            "Get:2 http://ppa.launchpad.net/longsleep/golang-backports/ubuntu bionic/main amd64 golang-1.15-go amd64 1.15.7-1longsleep1+bionic [47.4 MB]\n",
            "Get:3 http://ppa.launchpad.net/longsleep/golang-backports/ubuntu bionic/main amd64 golang-src amd64 2:1.15-1longsleep1+bionic [3,924 B]\n",
            "Get:4 http://ppa.launchpad.net/longsleep/golang-backports/ubuntu bionic/main amd64 golang-go amd64 2:1.15-1longsleep1+bionic [23.0 kB]\n",
            "Fetched 61.2 MB in 11s (5,485 kB/s)\n",
            "Selecting previously unselected package golang-1.15-src.\n",
            "(Reading database ... 146374 files and directories currently installed.)\n",
            "Preparing to unpack .../golang-1.15-src_1.15.7-1longsleep1+bionic_amd64.deb ...\n",
            "Unpacking golang-1.15-src (1.15.7-1longsleep1+bionic) ...\n",
            "Selecting previously unselected package golang-1.15-go.\n",
            "Preparing to unpack .../golang-1.15-go_1.15.7-1longsleep1+bionic_amd64.deb ...\n",
            "Unpacking golang-1.15-go (1.15.7-1longsleep1+bionic) ...\n",
            "Selecting previously unselected package golang-src.\n",
            "Preparing to unpack .../golang-src_2%3a1.15-1longsleep1+bionic_amd64.deb ...\n",
            "Unpacking golang-src (2:1.15-1longsleep1+bionic) ...\n",
            "Selecting previously unselected package golang-go.\n",
            "Preparing to unpack .../golang-go_2%3a1.15-1longsleep1+bionic_amd64.deb ...\n",
            "Unpacking golang-go (2:1.15-1longsleep1+bionic) ...\n",
            "Setting up golang-1.15-src (1.15.7-1longsleep1+bionic) ...\n",
            "Setting up golang-1.15-go (1.15.7-1longsleep1+bionic) ...\n",
            "Setting up golang-src (2:1.15-1longsleep1+bionic) ...\n",
            "Setting up golang-go (2:1.15-1longsleep1+bionic) ...\n",
            "Processing triggers for man-db (2.8.3-2ubuntu0.1) ...\n",
            "env: GOPATH=/root/go\n"
          ],
          "name": "stdout"
        }
      ]
    },
    {
      "cell_type": "code",
      "metadata": {
        "id": "OtljXIV2PLMK"
      },
      "source": [
        ""
      ],
      "execution_count": null,
      "outputs": []
    },
    {
      "cell_type": "markdown",
      "metadata": {
        "id": "NJeh4fVHU8Gy"
      },
      "source": [
        "**Golang Code Cells**"
      ]
    },
    {
      "cell_type": "code",
      "metadata": {
        "id": "dv29Doq9azBC",
        "colab": {
          "base_uri": "https://localhost:8080/"
        },
        "outputId": "6498ed22-bc2b-4c9f-ae58-69b5608974d3"
      },
      "source": [
        "import \"fmt\"\n",
        "\n",
        "fmt.Println(\"Hello, Gianni!\")"
      ],
      "execution_count": 1,
      "outputs": [
        {
          "output_type": "stream",
          "text": [
            "Hello, Gianni!\n"
          ],
          "name": "stdout"
        },
        {
          "output_type": "execute_result",
          "data": {
            "text/plain": [
              "15 <nil>"
            ]
          },
          "metadata": {
            "tags": []
          },
          "execution_count": 1
        }
      ]
    },
    {
      "cell_type": "code",
      "metadata": {
        "id": "voxjyR9BRXV0",
        "colab": {
          "base_uri": "https://localhost:8080/"
        },
        "outputId": "f3230d17-cd20-4919-8ba7-2e1fe9875b30"
      },
      "source": [
        "for i := 1; i < 10; i++ {\n",
        "  print(i)\n",
        "}"
      ],
      "execution_count": 2,
      "outputs": [
        {
          "output_type": "stream",
          "text": [
            "123456789"
          ],
          "name": "stderr"
        }
      ]
    }
  ]
}